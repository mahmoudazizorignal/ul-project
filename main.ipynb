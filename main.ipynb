{
 "cells": [
  {
   "cell_type": "code",
   "execution_count": 8,
   "metadata": {
    "execution": {
     "iopub.execute_input": "2024-12-23T16:27:22.558775Z",
     "iopub.status.busy": "2024-12-23T16:27:22.558323Z",
     "iopub.status.idle": "2024-12-23T16:27:22.970964Z",
     "shell.execute_reply": "2024-12-23T16:27:22.969864Z",
     "shell.execute_reply.started": "2024-12-23T16:27:22.558743Z"
    },
    "trusted": true
   },
   "outputs": [],
   "source": [
    "import pandas as pd\n",
    "import numpy as np\n",
    "from pca_utils import PCA"
   ]
  },
  {
   "cell_type": "code",
   "execution_count": 9,
   "metadata": {},
   "outputs": [],
   "source": [
    "# File path for the dataset\n",
    "file_path = 'datasets/winequality-red.csv'\n",
    "\n",
    "# Load the dataset into a pandas DataFrame\n",
    "df = pd.read_csv(file_path)\n",
    "\n",
    "# Extract numeric data and drop rows with missing values\n",
    "numeric_data = df.select_dtypes(include=[np.number]).dropna().to_numpy()"
   ]
  },
  {
   "cell_type": "code",
   "execution_count": 6,
   "metadata": {},
   "outputs": [
    {
     "name": "stdout",
     "output_type": "stream",
     "text": [
      "The shape after applying PCA: (1599, 1)\n",
      "Reconstruction Error (MSE): 5.381712\n",
      "The percentage of variance change with n_components=1: 0.053920\n",
      "\n",
      "*------------------------------------------------------------------------------------------*\n",
      "\n",
      "The shape after applying PCA: (1599, 2)\n",
      "Reconstruction Error (MSE): 0.556146\n",
      "The percentage of variance change with n_components=2: 0.005572\n",
      "\n",
      "*------------------------------------------------------------------------------------------*\n",
      "\n",
      "The shape after applying PCA: (1599, 3)\n",
      "Reconstruction Error (MSE): 0.297044\n",
      "The percentage of variance change with n_components=3: 0.002976\n",
      "\n",
      "*------------------------------------------------------------------------------------------*\n",
      "\n",
      "The shape after applying PCA: (1599, 4)\n",
      "Reconstruction Error (MSE): 0.145048\n",
      "The percentage of variance change with n_components=4: 0.001453\n",
      "\n",
      "*------------------------------------------------------------------------------------------*\n",
      "\n",
      "The shape after applying PCA: (1599, 5)\n",
      "Reconstruction Error (MSE): 0.040338\n",
      "The percentage of variance change with n_components=5: 0.000404\n",
      "\n",
      "*------------------------------------------------------------------------------------------*\n",
      "\n",
      "The shape after applying PCA: (1599, 6)\n",
      "Reconstruction Error (MSE): 0.006904\n",
      "The percentage of variance change with n_components=6: 0.000069\n",
      "\n",
      "*------------------------------------------------------------------------------------------*\n",
      "\n",
      "The shape after applying PCA: (1599, 7)\n",
      "Reconstruction Error (MSE): 0.003809\n",
      "The percentage of variance change with n_components=7: 0.000038\n",
      "\n",
      "*------------------------------------------------------------------------------------------*\n",
      "\n",
      "The shape after applying PCA: (1599, 8)\n",
      "Reconstruction Error (MSE): 0.001878\n",
      "The percentage of variance change with n_components=8: 0.000019\n",
      "\n",
      "*------------------------------------------------------------------------------------------*\n",
      "\n",
      "The shape after applying PCA: (1599, 9)\n",
      "Reconstruction Error (MSE): 0.000936\n",
      "The percentage of variance change with n_components=9: 0.000009\n",
      "\n",
      "*------------------------------------------------------------------------------------------*\n",
      "\n",
      "The shape after applying PCA: (1599, 10)\n",
      "Reconstruction Error (MSE): 0.000120\n",
      "The percentage of variance change with n_components=10: 0.000001\n",
      "\n",
      "*------------------------------------------------------------------------------------------*\n",
      "\n",
      "The shape after applying PCA: (1599, 11)\n",
      "Reconstruction Error (MSE): 0.000000\n",
      "The percentage of variance change with n_components=11: 0.000000\n",
      "\n",
      "*------------------------------------------------------------------------------------------*\n",
      "\n",
      "The shape after applying PCA: (1599, 12)\n",
      "Reconstruction Error (MSE): 0.000000\n",
      "The percentage of variance change with n_components=12: -0.000000\n",
      "\n",
      "*------------------------------------------------------------------------------------------*\n",
      "\n"
     ]
    }
   ],
   "source": [
    "# Calculate variance of each feature before applying PCA\n",
    "variance_before_apply_PCA = np.var(numeric_data, axis=0)\n",
    "\n",
    "# Calculate total variance before PCA\n",
    "total_variance_before_apply_PCA = np.sum(variance_before_apply_PCA)\n",
    "\n",
    "# Iterate over different numbers of principal components\n",
    "for i in range(1, numeric_data.shape[1] + 1):\n",
    "    # Apply PCA with the current number of components\n",
    "    reduced_data, reconstructed_data = PCA(numeric_data, n_components=i)\n",
    "\n",
    "    # Display the shape of the reduced data\n",
    "    print(f\"The shape after applying PCA: {reduced_data.shape}\")\n",
    "\n",
    "    # Compute reconstruction error (Mean Squared Error)\n",
    "    reconstruction_error = np.mean((numeric_data - reconstructed_data) ** 2)\n",
    "    print(f\"Reconstruction Error (MSE): {reconstruction_error:.6f}\")\n",
    "\n",
    "    # Calculate variance of the reduced data\n",
    "    variance_after_apply_PCA = np.var(reduced_data, axis=0)\n",
    "\n",
    "    # Calculate total variance after PCA\n",
    "    total_variance_after_apply_PCA = np.sum(variance_after_apply_PCA)\n",
    "\n",
    "    # Compute the percentage change in variance due to dimensionality reduction\n",
    "    percentage_change_in_variance = (1 - total_variance_after_apply_PCA / total_variance_before_apply_PCA)\n",
    "    print(f\"The percentage of variance change with n_components={i}: {percentage_change_in_variance:.6f}\")\n",
    "\n",
    "    print(\"\\n*------------------------------------------------------------------------------------------*\\n\")"
   ]
  },
  {
   "cell_type": "code",
   "execution_count": 7,
   "metadata": {
    "execution": {
     "iopub.execute_input": "2024-12-23T16:30:40.231770Z",
     "iopub.status.busy": "2024-12-23T16:30:40.231334Z",
     "iopub.status.idle": "2024-12-23T16:30:40.256207Z",
     "shell.execute_reply": "2024-12-23T16:30:40.254625Z",
     "shell.execute_reply.started": "2024-12-23T16:30:40.231741Z"
    },
    "trusted": true
   },
   "outputs": [
    {
     "name": "stdout",
     "output_type": "stream",
     "text": [
      "the shape before apply PCA (1599, 12)\n",
      "*------------------------------------------------------------------------------------------*\n",
      "the shape after apply PCA (1599, 5)\n",
      "*------------------------------------------------------------------------------------------*\n",
      "data after apply PCA with 5 components: \n",
      "[[-13.22202658  -2.03192212   1.18123474   0.47564207  -1.20021245]\n",
      " [ 22.04025471   4.40179054   0.35499069   0.2602393   -0.75290663]\n",
      " [  7.16536169  -2.50832073   0.62463767   0.27530638  -0.72707587]\n",
      " ...\n",
      " [ -3.43293096  14.27427694   1.73227854  -0.21146278   0.35664677]\n",
      " [  1.13557385  16.30769238   2.18955318   0.294478    -0.75029295]\n",
      " [ -3.87592057   3.13011173   1.84248483  -1.73878746   0.2121722 ]]\n"
     ]
    }
   ],
   "source": [
    "#chosse the number of components 5 \n",
    "reduced_data, reconstructed_data = PCA(numeric_data, n_components = 5)\n",
    "print(f\"the shape before apply PCA {numeric_data.shape}\")\n",
    "print(\"*------------------------------------------------------------------------------------------*\")\n",
    "print(f\"the shape after apply PCA {reduced_data.shape}\")\n",
    "print(\"*------------------------------------------------------------------------------------------*\")\n",
    "print(f\"data after apply PCA with 5 components: \\n{reduced_data}\")\n"
   ]
  },
  {
   "cell_type": "code",
   "execution_count": null,
   "metadata": {
    "trusted": true
   },
   "outputs": [],
   "source": []
  }
 ],
 "metadata": {
  "kaggle": {
   "accelerator": "none",
   "dataSources": [
    {
     "datasetId": 455976,
     "sourceId": 859925,
     "sourceType": "datasetVersion"
    }
   ],
   "dockerImageVersionId": 30822,
   "isGpuEnabled": false,
   "isInternetEnabled": true,
   "language": "python",
   "sourceType": "notebook"
  },
  "kernelspec": {
   "display_name": ".venv",
   "language": "python",
   "name": "python3"
  },
  "language_info": {
   "codemirror_mode": {
    "name": "ipython",
    "version": 3
   },
   "file_extension": ".py",
   "mimetype": "text/x-python",
   "name": "python",
   "nbconvert_exporter": "python",
   "pygments_lexer": "ipython3",
   "version": "3.12.4"
  }
 },
 "nbformat": 4,
 "nbformat_minor": 4
}
